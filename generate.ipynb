{
 "cells": [
  {
   "cell_type": "markdown",
   "metadata": {},
   "source": [
    "Using SX generate parquet files for testing with join infrastructure. Also, using new SX frontend.\n",
    "\n",
    "Constants:"
   ]
  },
  {
   "cell_type": "code",
   "execution_count": 1,
   "metadata": {},
   "outputs": [],
   "source": [
    "# A Z to ee sample - Release 21\n",
    "ds_name = r\"mc16_13TeV:mc16_13TeV.361106.PowhegPythia8EvtGen_AZNLOCTEQ6L1_Zee.deriv.DAOD_PHYS.e3601_e5984_s3126_r10201_r10210_p5313\""
   ]
  },
  {
   "cell_type": "markdown",
   "metadata": {},
   "source": [
    "What we'll need for imports"
   ]
  },
  {
   "cell_type": "code",
   "execution_count": 2,
   "metadata": {},
   "outputs": [],
   "source": [
    "from servicex_client.servicex_client import ServiceXClient\n",
    "from servicex_client.dataset_identifier import RucioDatasetIdentifier\n",
    "from servicex_client.models import ResultFormat\n",
    "from func_adl_servicex_xaodr22.event_collection import Event\n",
    "\n",
    "# import logging\n",
    "# logging.basicConfig(level=logging.DEBUG)"
   ]
  },
  {
   "cell_type": "code",
   "execution_count": 5,
   "metadata": {},
   "outputs": [
    {
     "name": "stderr",
     "output_type": "stream",
     "text": [
      "DEBUG:httpx:load_ssl_context verify=True cert=None trust_env=True http2=False\n",
      "DEBUG:httpx:load_verify_locations cafile='c:\\\\Users\\\\gordo\\\\Code\\\\iris-hep\\\\joiner\\\\.venv\\\\lib\\\\site-packages\\\\certifi\\\\cacert.pem'\n"
     ]
    },
    {
     "name": "stderr",
     "output_type": "stream",
     "text": [
      "DEBUG:httpcore.connection:connect_tcp.started host='servicex-release-testing-4.servicex.ssl-hep.org' port=443 local_address=None timeout=5.0 socket_options=None\n",
      "DEBUG:httpcore.connection:connect_tcp.complete return_value=<httpcore._backends.sync.SyncStream object at 0x00000264CE030940>\n",
      "DEBUG:httpcore.connection:start_tls.started ssl_context=<ssl.SSLContext object at 0x00000264CE11CFC0> server_hostname='servicex-release-testing-4.servicex.ssl-hep.org' timeout=5.0\n",
      "DEBUG:httpcore.connection:start_tls.complete return_value=<httpcore._backends.sync.SyncStream object at 0x00000264CE030460>\n",
      "DEBUG:httpcore.http11:send_request_headers.started request=<Request [b'GET']>\n",
      "DEBUG:httpcore.http11:send_request_headers.complete\n",
      "DEBUG:httpcore.http11:send_request_body.started request=<Request [b'GET']>\n",
      "DEBUG:httpcore.http11:send_request_body.complete\n",
      "DEBUG:httpcore.http11:receive_response_headers.started request=<Request [b'GET']>\n",
      "DEBUG:httpcore.http11:receive_response_headers.complete return_value=(b'HTTP/1.1', 200, b'OK', [(b'Date', b'Wed, 12 Jul 2023 23:56:30 GMT'), (b'Content-Type', b'application/json'), (b'Content-Length', b'484'), (b'Connection', b'keep-alive'), (b'Access-Control-Allow-Origin', b'*'), (b'Strict-Transport-Security', b'max-age=15724800; includeSubDomains')])\n",
      "INFO:httpx:HTTP Request: GET https://servicex-release-testing-4.servicex.ssl-hep.org//multiple-codegen-list \"HTTP/1.1 200 OK\"\n",
      "DEBUG:httpcore.http11:receive_response_body.started request=<Request [b'GET']>\n",
      "DEBUG:httpcore.http11:receive_response_body.complete\n",
      "DEBUG:httpcore.http11:response_closed.started\n",
      "DEBUG:httpcore.http11:response_closed.complete\n",
      "DEBUG:httpcore.connection:close.started\n",
      "DEBUG:httpcore.connection:close.complete\n"
     ]
    }
   ],
   "source": [
    "sx = ServiceXClient(backend=\"test4\")\n",
    "did = RucioDatasetIdentifier(ds_name, num_files=10)\n",
    "ds_raw = sx.func_adl_dataset(\n",
    "    did, codegen=\"atlasr21\", title=\"Zee\", result_format=ResultFormat.parquet, item_type=Event\n",
    ")\n",
    "\n",
    "from func_adl_servicex_xaodr22 import calib_tools\n",
    "#ds = calib_tools.apply_calibration(ds_raw, \"PHYS\")\n",
    "ds = calib_tools.query_update(ds_raw, calib_tools.default_config(\"PHYSLITE\"))"
   ]
  },
  {
   "cell_type": "code",
   "execution_count": 6,
   "metadata": {},
   "outputs": [
    {
     "name": "stderr",
     "output_type": "stream",
     "text": [
      "INFO:func_adl.object_stream:Overwriting metadata \"calibration\" from its old value of \"CalibrationEventConfig(jet_collection='AnalysisJets', jet_calib_truth_collection='AntiKt4TruthDressedWZJets', run_jet_ghost_muon_association=False, electron_collection='AnalysisElectrons', electron_working_point='MediumLHElectron', electron_isolation='NonIso', photon_collection='AnalysisPhotons', photon_working_point='Tight', photon_isolation='FixedCutTight', muon_collection='AnalysisMuons', muon_working_point='Medium', muon_isolation='NonIso', tau_collection='AnalysisTaus', tau_working_point='Tight', perform_overlap_removal=True, datatype='mc', correct_pileup=True, calibrate=False, uncalibrated_possible=False)\" to \"CalibrationEventConfig(jet_collection='AnalysisJets', jet_calib_truth_collection='AntiKt4TruthDressedWZJets', run_jet_ghost_muon_association=False, electron_collection='Electrons', electron_working_point='MediumLHElectron', electron_isolation='NonIso', photon_collection='AnalysisPhotons', photon_working_point='Tight', photon_isolation='FixedCutTight', muon_collection='AnalysisMuons', muon_working_point='Medium', muon_isolation='NonIso', tau_collection='AnalysisTaus', tau_working_point='Tight', perform_overlap_removal=True, datatype='mc', correct_pileup=True, calibrate=False, uncalibrated_possible=False)\"\n",
      "DEBUG:asyncio:Using selector: SelectSelector\n"
     ]
    },
    {
     "data": {
      "application/vnd.jupyter.widget-view+json": {
       "model_id": "c0cc28c97e40437e84dfb4793fa95973",
       "version_major": 2,
       "version_minor": 0
      },
      "text/plain": [
       "Output()"
      ]
     },
     "metadata": {},
     "output_type": "display_data"
    },
    {
     "name": "stderr",
     "output_type": "stream",
     "text": [
      "DEBUG:httpx:load_ssl_context verify=True cert=None trust_env=True http2=False\n",
      "DEBUG:httpx:load_verify_locations cafile='c:\\\\Users\\\\gordo\\\\Code\\\\iris-hep\\\\joiner\\\\.venv\\\\lib\\\\site-packages\\\\certifi\\\\cacert.pem'\n",
      "DEBUG:httpcore.connection:connect_tcp.started host='servicex-release-testing-4.servicex.ssl-hep.org' port=443 local_address=None timeout=5.0 socket_options=None\n",
      "DEBUG:httpcore.connection:connect_tcp.complete return_value=<httpcore._backends.anyio.AnyIOStream object at 0x00000264CE12ADA0>\n",
      "DEBUG:httpcore.connection:start_tls.started ssl_context=<ssl.SSLContext object at 0x00000264CE099440> server_hostname='servicex-release-testing-4.servicex.ssl-hep.org' timeout=5.0\n"
     ]
    },
    {
     "name": "stderr",
     "output_type": "stream",
     "text": [
      "DEBUG:httpcore.connection:start_tls.complete return_value=<httpcore._backends.anyio.AnyIOStream object at 0x00000264CE0F89A0>\n",
      "DEBUG:httpcore.http11:send_request_headers.started request=<Request [b'POST']>\n",
      "DEBUG:httpcore.http11:send_request_headers.complete\n",
      "DEBUG:httpcore.http11:send_request_body.started request=<Request [b'POST']>\n",
      "DEBUG:httpcore.http11:send_request_body.complete\n",
      "DEBUG:httpcore.http11:receive_response_headers.started request=<Request [b'POST']>\n",
      "DEBUG:httpcore.http11:receive_response_headers.complete return_value=(b'HTTP/1.1', 200, b'OK', [(b'Date', b'Wed, 12 Jul 2023 23:56:34 GMT'), (b'Content-Type', b'application/json'), (b'Content-Length', b'332'), (b'Connection', b'keep-alive'), (b'Access-Control-Allow-Origin', b'*'), (b'Strict-Transport-Security', b'max-age=15724800; includeSubDomains')])\n",
      "INFO:httpx:HTTP Request: POST https://servicex-release-testing-4.servicex.ssl-hep.org//token/refresh \"HTTP/1.1 200 OK\"\n",
      "DEBUG:httpcore.http11:receive_response_body.started request=<Request [b'POST']>\n",
      "DEBUG:httpcore.http11:receive_response_body.complete\n",
      "DEBUG:httpcore.http11:response_closed.started\n",
      "DEBUG:httpcore.http11:response_closed.complete\n",
      "DEBUG:root:Submitting transform request: {\"title\": \"Zee\", \"did\": \"rucio://mc16_13TeV:mc16_13TeV.361106.PowhegPythia8EvtGen_AZNLOCTEQ6L1_Zee.deriv.DAOD_PHYS.e3601_e5984_s3126_r10201_r10210_p5313?files=10\", \"selection\": \"(call Select (call MetaData (call MetaData (call Select (call MetaData (call MetaData (call MetaData (call MetaData (call Select (call MetaData (call EventDataset) (dict (list 'metadata_type' 'name' 'include_files' 'container_type' 'element_type' 'contains_collection' 'link_libraries') (list 'add_atlas_event_collection_info' 'Electrons' (list 'xAODEgamma/ElectronContainer.h') 'DataVector<xAOD::Electron_v1>' 'xAOD::Electron_v1' True (list 'xAODEgamma')))) (lambda (list e) (call (attr e 'Electrons') 'Electrons'))) (dict (list 'metadata_type' 'type_string' 'method_name' 'return_type') (list 'add_method_type_info' 'xAOD::Electron_v1' 'pt' 'double'))) (dict (list 'metadata_type' 'name' 'body_includes') (list 'inject_code' 'xAODEgamma/versions/Electron_v1.h' (list 'xAODEgamma/versions/Electron_v1.h')))) (dict (list 'metadata_type' 'type_string' 'method_name' 'return_type') (list 'add_method_type_info' 'xAOD::Electron_v1' 'eta' 'double'))) (dict (list 'metadata_type' 'name' 'body_includes') (list 'inject_code' 'xAODEgamma/versions/Electron_v1.h' (list 'xAODEgamma/versions/Electron_v1.h')))) (lambda (list e) (call (attr e 'Where') (lambda (list e) (and (> (/ (call (attr e 'pt')) 1000) 25.0) (< (call abs (call (attr e 'eta'))) 2.5)))))) (dict (list 'metadata_type' 'type_string' 'method_name' 'return_type') (list 'add_method_type_info' 'xAOD::Electron_v1' 'pt' 'double'))) (dict (list 'metadata_type' 'name' 'body_includes') (list 'inject_code' 'xAODEgamma/versions/Electron_v1.h' (list 'xAODEgamma/versions/Electron_v1.h')))) (lambda (list e) (call (attr e 'Select') (lambda (list e) (/ (call (attr e 'pt')) 1000)))))\", \"codegen\": \"atlasr21\", \"result-destination\": \"object-store\", \"result-format\": \"parquet\"}\n",
      "DEBUG:root:Submitting transform request: (call Select (call MetaData (call MetaData (call Select (call MetaData (call MetaData (call MetaData (call MetaData (call Select (call MetaData (call EventDataset) (dict (list 'metadata_type' 'name' 'include_files' 'container_type' 'element_type' 'contains_collection' 'link_libraries') (list 'add_atlas_event_collection_info' 'Electrons' (list 'xAODEgamma/ElectronContainer.h') 'DataVector<xAOD::Electron_v1>' 'xAOD::Electron_v1' True (list 'xAODEgamma')))) (lambda (list e) (call (attr e 'Electrons') 'Electrons'))) (dict (list 'metadata_type' 'type_string' 'method_name' 'return_type') (list 'add_method_type_info' 'xAOD::Electron_v1' 'pt' 'double'))) (dict (list 'metadata_type' 'name' 'body_includes') (list 'inject_code' 'xAODEgamma/versions/Electron_v1.h' (list 'xAODEgamma/versions/Electron_v1.h')))) (dict (list 'metadata_type' 'type_string' 'method_name' 'return_type') (list 'add_method_type_info' 'xAOD::Electron_v1' 'eta' 'double'))) (dict (list 'metadata_type' 'name' 'body_includes') (list 'inject_code' 'xAODEgamma/versions/Electron_v1.h' (list 'xAODEgamma/versions/Electron_v1.h')))) (lambda (list e) (call (attr e 'Where') (lambda (list e) (and (> (/ (call (attr e 'pt')) 1000) 25.0) (< (call abs (call (attr e 'eta'))) 2.5)))))) (dict (list 'metadata_type' 'type_string' 'method_name' 'return_type') (list 'add_method_type_info' 'xAOD::Electron_v1' 'pt' 'double'))) (dict (list 'metadata_type' 'name' 'body_includes') (list 'inject_code' 'xAODEgamma/versions/Electron_v1.h' (list 'xAODEgamma/versions/Electron_v1.h')))) (lambda (list e) (call (attr e 'Select') (lambda (list e) (/ (call (attr e 'pt')) 1000)))))\n",
      "DEBUG:httpcore.http11:send_request_headers.started request=<Request [b'POST']>\n",
      "DEBUG:httpcore.http11:send_request_headers.complete\n",
      "DEBUG:httpcore.http11:send_request_body.started request=<Request [b'POST']>\n",
      "DEBUG:httpcore.http11:send_request_body.complete\n",
      "DEBUG:httpcore.http11:receive_response_headers.started request=<Request [b'POST']>\n"
     ]
    },
    {
     "name": "stderr",
     "output_type": "stream",
     "text": [
      "DEBUG:httpcore.http11:receive_response_headers.complete return_value=(b'HTTP/1.1', 200, b'OK', [(b'Date', b'Wed, 12 Jul 2023 23:56:34 GMT'), (b'Content-Type', b'application/json'), (b'Content-Length', b'55'), (b'Connection', b'keep-alive'), (b'Access-Control-Allow-Origin', b'*'), (b'Strict-Transport-Security', b'max-age=15724800; includeSubDomains')])\n",
      "INFO:httpx:HTTP Request: POST https://servicex-release-testing-4.servicex.ssl-hep.org//servicex/transformation \"HTTP/1.1 200 OK\"\n",
      "DEBUG:httpcore.http11:receive_response_body.started request=<Request [b'POST']>\n",
      "DEBUG:httpcore.http11:receive_response_body.complete\n",
      "DEBUG:httpcore.http11:response_closed.started\n",
      "DEBUG:httpcore.http11:response_closed.complete\n",
      "DEBUG:httpcore.connection:close.started\n",
      "DEBUG:httpcore.connection:close.complete\n",
      "DEBUG:httpx:load_ssl_context verify=True cert=None trust_env=True http2=False\n",
      "DEBUG:httpx:load_verify_locations cafile='c:\\\\Users\\\\gordo\\\\Code\\\\iris-hep\\\\joiner\\\\.venv\\\\lib\\\\site-packages\\\\certifi\\\\cacert.pem'\n",
      "DEBUG:httpcore.connection:connect_tcp.started host='servicex-release-testing-4.servicex.ssl-hep.org' port=443 local_address=None timeout=5.0 socket_options=None\n",
      "DEBUG:httpcore.connection:connect_tcp.complete return_value=<httpcore._backends.anyio.AnyIOStream object at 0x00000264CE2056F0>\n",
      "DEBUG:httpcore.connection:start_tls.started ssl_context=<ssl.SSLContext object at 0x00000264CE11DBC0> server_hostname='servicex-release-testing-4.servicex.ssl-hep.org' timeout=5.0\n"
     ]
    },
    {
     "name": "stderr",
     "output_type": "stream",
     "text": [
      "DEBUG:httpcore.connection:start_tls.complete return_value=<httpcore._backends.anyio.AnyIOStream object at 0x00000264CE12AA10>\n",
      "DEBUG:httpcore.http11:send_request_headers.started request=<Request [b'POST']>\n",
      "DEBUG:httpcore.http11:send_request_headers.complete\n",
      "DEBUG:httpcore.http11:send_request_body.started request=<Request [b'POST']>\n",
      "DEBUG:httpcore.http11:send_request_body.complete\n",
      "DEBUG:httpcore.http11:receive_response_headers.started request=<Request [b'POST']>\n",
      "DEBUG:httpcore.http11:receive_response_headers.complete return_value=(b'HTTP/1.1', 200, b'OK', [(b'Date', b'Wed, 12 Jul 2023 23:56:34 GMT'), (b'Content-Type', b'application/json'), (b'Content-Length', b'332'), (b'Connection', b'keep-alive'), (b'Access-Control-Allow-Origin', b'*'), (b'Strict-Transport-Security', b'max-age=15724800; includeSubDomains')])\n",
      "INFO:httpx:HTTP Request: POST https://servicex-release-testing-4.servicex.ssl-hep.org//token/refresh \"HTTP/1.1 200 OK\"\n",
      "DEBUG:httpcore.http11:receive_response_body.started request=<Request [b'POST']>\n",
      "DEBUG:httpcore.http11:receive_response_body.complete\n",
      "DEBUG:httpcore.http11:response_closed.started\n",
      "DEBUG:httpcore.http11:response_closed.complete\n",
      "DEBUG:httpcore.http11:send_request_headers.started request=<Request [b'GET']>\n",
      "DEBUG:httpcore.http11:send_request_headers.complete\n",
      "DEBUG:httpcore.http11:send_request_body.started request=<Request [b'GET']>\n",
      "DEBUG:httpcore.http11:send_request_body.complete\n",
      "DEBUG:httpcore.http11:receive_response_headers.started request=<Request [b'GET']>\n"
     ]
    },
    {
     "name": "stderr",
     "output_type": "stream",
     "text": [
      "DEBUG:httpcore.http11:receive_response_headers.complete return_value=(b'HTTP/1.1', 200, b'OK', [(b'Date', b'Wed, 12 Jul 2023 23:56:34 GMT'), (b'Content-Type', b'application/json'), (b'Content-Length', b'2603'), (b'Connection', b'keep-alive'), (b'Access-Control-Allow-Origin', b'*'), (b'Strict-Transport-Security', b'max-age=15724800; includeSubDomains')])\n",
      "INFO:httpx:HTTP Request: GET https://servicex-release-testing-4.servicex.ssl-hep.org//servicex/transformation/ba35edd9-96b0-48dd-af6d-2f4cb4c18502 \"HTTP/1.1 200 OK\"\n",
      "DEBUG:httpcore.http11:receive_response_body.started request=<Request [b'GET']>\n",
      "DEBUG:httpcore.http11:receive_response_body.complete\n",
      "DEBUG:httpcore.http11:response_closed.started\n",
      "DEBUG:httpcore.http11:response_closed.complete\n",
      "DEBUG:httpcore.connection:close.started\n",
      "DEBUG:httpcore.connection:close.complete\n"
     ]
    },
    {
     "data": {
      "text/html": [
       "<pre style=\"white-space:pre;overflow-x:auto;line-height:normal;font-family:Menlo,'DejaVu Sans Mono',consolas,'Courier New',monospace\"><span style=\"font-weight: bold\">ServiceX Transform </span><span style=\"color: #ffff00; text-decoration-color: #ffff00; font-weight: bold\">ba35edd9-96b0-48dd-af6d-2f4cb4c18502</span>\n",
       "</pre>\n"
      ],
      "text/plain": [
       "\u001b[1mServiceX Transform \u001b[0m\u001b[1;93mba35edd9-96b0-48dd-af6d-2f4cb4c18502\u001b[0m\n"
      ]
     },
     "metadata": {},
     "output_type": "display_data"
    },
    {
     "name": "stderr",
     "output_type": "stream",
     "text": [
      "DEBUG:charset_normalizer:Encoding detection: utf_8 is most likely the one.\n"
     ]
    },
    {
     "name": "stderr",
     "output_type": "stream",
     "text": [
      "DEBUG:charset_normalizer:Encoding detection: utf_8 is most likely the one.\n"
     ]
    },
    {
     "name": "stderr",
     "output_type": "stream",
     "text": [
      "DEBUG:httpx:load_ssl_context verify=True cert=None trust_env=True http2=False\n",
      "DEBUG:httpx:load_verify_locations cafile='c:\\\\Users\\\\gordo\\\\Code\\\\iris-hep\\\\joiner\\\\.venv\\\\lib\\\\site-packages\\\\certifi\\\\cacert.pem'\n",
      "DEBUG:httpcore.connection:connect_tcp.started host='servicex-release-testing-4.servicex.ssl-hep.org' port=443 local_address=None timeout=5.0 socket_options=None\n"
     ]
    },
    {
     "name": "stderr",
     "output_type": "stream",
     "text": [
      "DEBUG:httpcore.connection:connect_tcp.complete return_value=<httpcore._backends.anyio.AnyIOStream object at 0x00000264CE12A800>\n",
      "DEBUG:httpcore.connection:start_tls.started ssl_context=<ssl.SSLContext object at 0x00000264CE0992C0> server_hostname='servicex-release-testing-4.servicex.ssl-hep.org' timeout=5.0\n",
      "DEBUG:httpcore.connection:start_tls.complete return_value=<httpcore._backends.anyio.AnyIOStream object at 0x00000264CE12A5F0>\n",
      "DEBUG:httpcore.http11:send_request_headers.started request=<Request [b'POST']>\n",
      "DEBUG:httpcore.http11:send_request_headers.complete\n",
      "DEBUG:httpcore.http11:send_request_body.started request=<Request [b'POST']>\n",
      "DEBUG:httpcore.http11:send_request_body.complete\n",
      "DEBUG:httpcore.http11:receive_response_headers.started request=<Request [b'POST']>\n"
     ]
    },
    {
     "name": "stderr",
     "output_type": "stream",
     "text": [
      "DEBUG:httpcore.http11:receive_response_headers.complete return_value=(b'HTTP/1.1', 200, b'OK', [(b'Date', b'Wed, 12 Jul 2023 23:56:44 GMT'), (b'Content-Type', b'application/json'), (b'Content-Length', b'332'), (b'Connection', b'keep-alive'), (b'Access-Control-Allow-Origin', b'*'), (b'Strict-Transport-Security', b'max-age=15724800; includeSubDomains')])\n",
      "INFO:httpx:HTTP Request: POST https://servicex-release-testing-4.servicex.ssl-hep.org//token/refresh \"HTTP/1.1 200 OK\"\n",
      "DEBUG:httpcore.http11:receive_response_body.started request=<Request [b'POST']>\n",
      "DEBUG:httpcore.http11:receive_response_body.complete\n",
      "DEBUG:httpcore.http11:response_closed.started\n",
      "DEBUG:httpcore.http11:response_closed.complete\n",
      "DEBUG:httpcore.http11:send_request_headers.started request=<Request [b'GET']>\n",
      "DEBUG:httpcore.http11:send_request_headers.complete\n",
      "DEBUG:httpcore.http11:send_request_body.started request=<Request [b'GET']>\n",
      "DEBUG:httpcore.http11:send_request_body.complete\n",
      "DEBUG:httpcore.http11:receive_response_headers.started request=<Request [b'GET']>\n"
     ]
    },
    {
     "name": "stderr",
     "output_type": "stream",
     "text": [
      "DEBUG:httpcore.http11:receive_response_headers.complete return_value=(b'HTTP/1.1', 200, b'OK', [(b'Date', b'Wed, 12 Jul 2023 23:56:45 GMT'), (b'Content-Type', b'application/json'), (b'Content-Length', b'2603'), (b'Connection', b'keep-alive'), (b'Access-Control-Allow-Origin', b'*'), (b'Strict-Transport-Security', b'max-age=15724800; includeSubDomains')])\n",
      "INFO:httpx:HTTP Request: GET https://servicex-release-testing-4.servicex.ssl-hep.org//servicex/transformation/ba35edd9-96b0-48dd-af6d-2f4cb4c18502 \"HTTP/1.1 200 OK\"\n",
      "DEBUG:httpcore.http11:receive_response_body.started request=<Request [b'GET']>\n",
      "DEBUG:httpcore.http11:receive_response_body.complete\n",
      "DEBUG:httpcore.http11:response_closed.started\n",
      "DEBUG:httpcore.http11:response_closed.complete\n",
      "DEBUG:httpcore.connection:close.started\n",
      "DEBUG:httpcore.connection:close.complete\n",
      "DEBUG:charset_normalizer:Encoding detection: utf_8 is most likely the one.\n"
     ]
    },
    {
     "name": "stderr",
     "output_type": "stream",
     "text": [
      "DEBUG:charset_normalizer:Encoding detection: utf_8 is most likely the one.\n"
     ]
    },
    {
     "name": "stderr",
     "output_type": "stream",
     "text": [
      "DEBUG:httpx:load_ssl_context verify=True cert=None trust_env=True http2=False\n",
      "DEBUG:httpx:load_verify_locations cafile='c:\\\\Users\\\\gordo\\\\Code\\\\iris-hep\\\\joiner\\\\.venv\\\\lib\\\\site-packages\\\\certifi\\\\cacert.pem'\n",
      "DEBUG:httpcore.connection:connect_tcp.started host='servicex-release-testing-4.servicex.ssl-hep.org' port=443 local_address=None timeout=5.0 socket_options=None\n"
     ]
    },
    {
     "name": "stderr",
     "output_type": "stream",
     "text": [
      "DEBUG:httpcore.connection:connect_tcp.complete return_value=<httpcore._backends.anyio.AnyIOStream object at 0x00000264CE206E60>\n",
      "DEBUG:httpcore.connection:start_tls.started ssl_context=<ssl.SSLContext object at 0x00000264CE11F0C0> server_hostname='servicex-release-testing-4.servicex.ssl-hep.org' timeout=5.0\n",
      "DEBUG:httpcore.connection:start_tls.complete return_value=<httpcore._backends.anyio.AnyIOStream object at 0x00000264CE2072E0>\n",
      "DEBUG:httpcore.http11:send_request_headers.started request=<Request [b'POST']>\n",
      "DEBUG:httpcore.http11:send_request_headers.complete\n",
      "DEBUG:httpcore.http11:send_request_body.started request=<Request [b'POST']>\n",
      "DEBUG:httpcore.http11:send_request_body.complete\n",
      "DEBUG:httpcore.http11:receive_response_headers.started request=<Request [b'POST']>\n"
     ]
    },
    {
     "name": "stderr",
     "output_type": "stream",
     "text": [
      "DEBUG:httpcore.http11:receive_response_headers.complete return_value=(b'HTTP/1.1', 200, b'OK', [(b'Date', b'Wed, 12 Jul 2023 23:56:55 GMT'), (b'Content-Type', b'application/json'), (b'Content-Length', b'332'), (b'Connection', b'keep-alive'), (b'Access-Control-Allow-Origin', b'*'), (b'Strict-Transport-Security', b'max-age=15724800; includeSubDomains')])\n",
      "INFO:httpx:HTTP Request: POST https://servicex-release-testing-4.servicex.ssl-hep.org//token/refresh \"HTTP/1.1 200 OK\"\n",
      "DEBUG:httpcore.http11:receive_response_body.started request=<Request [b'POST']>\n",
      "DEBUG:httpcore.http11:receive_response_body.complete\n",
      "DEBUG:httpcore.http11:response_closed.started\n",
      "DEBUG:httpcore.http11:response_closed.complete\n",
      "DEBUG:httpcore.http11:send_request_headers.started request=<Request [b'GET']>\n",
      "DEBUG:httpcore.http11:send_request_headers.complete\n",
      "DEBUG:httpcore.http11:send_request_body.started request=<Request [b'GET']>\n",
      "DEBUG:httpcore.http11:send_request_body.complete\n",
      "DEBUG:httpcore.http11:receive_response_headers.started request=<Request [b'GET']>\n",
      "DEBUG:httpcore.http11:receive_response_headers.complete return_value=(b'HTTP/1.1', 200, b'OK', [(b'Date', b'Wed, 12 Jul 2023 23:56:55 GMT'), (b'Content-Type', b'application/json'), (b'Content-Length', b'2603'), (b'Connection', b'keep-alive'), (b'Access-Control-Allow-Origin', b'*'), (b'Strict-Transport-Security', b'max-age=15724800; includeSubDomains')])\n",
      "INFO:httpx:HTTP Request: GET https://servicex-release-testing-4.servicex.ssl-hep.org//servicex/transformation/ba35edd9-96b0-48dd-af6d-2f4cb4c18502 \"HTTP/1.1 200 OK\"\n",
      "DEBUG:httpcore.http11:receive_response_body.started request=<Request [b'GET']>\n",
      "DEBUG:httpcore.http11:receive_response_body.complete\n",
      "DEBUG:httpcore.http11:response_closed.started\n",
      "DEBUG:httpcore.http11:response_closed.complete\n",
      "DEBUG:httpcore.connection:close.started\n",
      "DEBUG:httpcore.connection:close.complete\n"
     ]
    },
    {
     "name": "stderr",
     "output_type": "stream",
     "text": [
      "DEBUG:charset_normalizer:Encoding detection: utf_8 is most likely the one.\n"
     ]
    },
    {
     "name": "stderr",
     "output_type": "stream",
     "text": [
      "DEBUG:charset_normalizer:Encoding detection: utf_8 is most likely the one.\n"
     ]
    },
    {
     "name": "stderr",
     "output_type": "stream",
     "text": [
      "DEBUG:httpx:load_ssl_context verify=True cert=None trust_env=True http2=False\n",
      "DEBUG:httpx:load_verify_locations cafile='c:\\\\Users\\\\gordo\\\\Code\\\\iris-hep\\\\joiner\\\\.venv\\\\lib\\\\site-packages\\\\certifi\\\\cacert.pem'\n",
      "DEBUG:httpcore.connection:connect_tcp.started host='servicex-release-testing-4.servicex.ssl-hep.org' port=443 local_address=None timeout=5.0 socket_options=None\n",
      "DEBUG:httpcore.connection:connect_tcp.complete return_value=<httpcore._backends.anyio.AnyIOStream object at 0x00000264CE21D1E0>\n",
      "DEBUG:httpcore.connection:start_tls.started ssl_context=<ssl.SSLContext object at 0x00000264CE06FBC0> server_hostname='servicex-release-testing-4.servicex.ssl-hep.org' timeout=5.0\n"
     ]
    },
    {
     "name": "stderr",
     "output_type": "stream",
     "text": [
      "DEBUG:httpcore.connection:start_tls.complete return_value=<httpcore._backends.anyio.AnyIOStream object at 0x00000264CE12B580>\n",
      "DEBUG:httpcore.http11:send_request_headers.started request=<Request [b'POST']>\n",
      "DEBUG:httpcore.http11:send_request_headers.complete\n",
      "DEBUG:httpcore.http11:send_request_body.started request=<Request [b'POST']>\n",
      "DEBUG:httpcore.http11:send_request_body.complete\n",
      "DEBUG:httpcore.http11:receive_response_headers.started request=<Request [b'POST']>\n"
     ]
    },
    {
     "name": "stderr",
     "output_type": "stream",
     "text": [
      "DEBUG:httpcore.http11:receive_response_headers.complete return_value=(b'HTTP/1.1', 200, b'OK', [(b'Date', b'Wed, 12 Jul 2023 23:57:05 GMT'), (b'Content-Type', b'application/json'), (b'Content-Length', b'332'), (b'Connection', b'keep-alive'), (b'Access-Control-Allow-Origin', b'*'), (b'Strict-Transport-Security', b'max-age=15724800; includeSubDomains')])\n",
      "INFO:httpx:HTTP Request: POST https://servicex-release-testing-4.servicex.ssl-hep.org//token/refresh \"HTTP/1.1 200 OK\"\n",
      "DEBUG:httpcore.http11:receive_response_body.started request=<Request [b'POST']>\n",
      "DEBUG:httpcore.http11:receive_response_body.complete\n",
      "DEBUG:httpcore.http11:response_closed.started\n",
      "DEBUG:httpcore.http11:response_closed.complete\n",
      "DEBUG:httpcore.http11:send_request_headers.started request=<Request [b'GET']>\n",
      "DEBUG:httpcore.http11:send_request_headers.complete\n",
      "DEBUG:httpcore.http11:send_request_body.started request=<Request [b'GET']>\n",
      "DEBUG:httpcore.http11:send_request_body.complete\n",
      "DEBUG:httpcore.http11:receive_response_headers.started request=<Request [b'GET']>\n",
      "DEBUG:httpcore.http11:receive_response_headers.complete return_value=(b'HTTP/1.1', 200, b'OK', [(b'Date', b'Wed, 12 Jul 2023 23:57:05 GMT'), (b'Content-Type', b'application/json'), (b'Content-Length', b'2602'), (b'Connection', b'keep-alive'), (b'Access-Control-Allow-Origin', b'*'), (b'Strict-Transport-Security', b'max-age=15724800; includeSubDomains')])\n",
      "INFO:httpx:HTTP Request: GET https://servicex-release-testing-4.servicex.ssl-hep.org//servicex/transformation/ba35edd9-96b0-48dd-af6d-2f4cb4c18502 \"HTTP/1.1 200 OK\"\n",
      "DEBUG:httpcore.http11:receive_response_body.started request=<Request [b'GET']>\n",
      "DEBUG:httpcore.http11:receive_response_body.complete\n",
      "DEBUG:httpcore.http11:response_closed.started\n",
      "DEBUG:httpcore.http11:response_closed.complete\n",
      "DEBUG:httpcore.connection:close.started\n",
      "DEBUG:httpcore.connection:close.complete\n"
     ]
    },
    {
     "name": "stderr",
     "output_type": "stream",
     "text": [
      "DEBUG:charset_normalizer:Encoding detection: utf_8 is most likely the one.\n"
     ]
    },
    {
     "name": "stderr",
     "output_type": "stream",
     "text": [
      "DEBUG:charset_normalizer:Encoding detection: utf_8 is most likely the one.\n"
     ]
    },
    {
     "name": "stderr",
     "output_type": "stream",
     "text": [
      "DEBUG:httpx:load_ssl_context verify=True cert=None trust_env=True http2=False\n",
      "DEBUG:httpx:load_verify_locations cafile='c:\\\\Users\\\\gordo\\\\Code\\\\iris-hep\\\\joiner\\\\.venv\\\\lib\\\\site-packages\\\\certifi\\\\cacert.pem'\n",
      "DEBUG:httpcore.connection:connect_tcp.started host='servicex-release-testing-4.servicex.ssl-hep.org' port=443 local_address=None timeout=5.0 socket_options=None\n",
      "DEBUG:httpcore.connection:connect_tcp.complete return_value=<httpcore._backends.anyio.AnyIOStream object at 0x00000264CE266050>\n",
      "DEBUG:httpcore.connection:start_tls.started ssl_context=<ssl.SSLContext object at 0x00000264CE11F0C0> server_hostname='servicex-release-testing-4.servicex.ssl-hep.org' timeout=5.0\n"
     ]
    },
    {
     "name": "stderr",
     "output_type": "stream",
     "text": [
      "DEBUG:httpcore.connection:start_tls.complete return_value=<httpcore._backends.anyio.AnyIOStream object at 0x00000264CE21C970>\n",
      "DEBUG:httpcore.http11:send_request_headers.started request=<Request [b'POST']>\n",
      "DEBUG:httpcore.http11:send_request_headers.complete\n",
      "DEBUG:httpcore.http11:send_request_body.started request=<Request [b'POST']>\n",
      "DEBUG:httpcore.http11:send_request_body.complete\n",
      "DEBUG:httpcore.http11:receive_response_headers.started request=<Request [b'POST']>\n",
      "DEBUG:httpcore.http11:receive_response_headers.complete return_value=(b'HTTP/1.1', 200, b'OK', [(b'Date', b'Wed, 12 Jul 2023 23:57:15 GMT'), (b'Content-Type', b'application/json'), (b'Content-Length', b'332'), (b'Connection', b'keep-alive'), (b'Access-Control-Allow-Origin', b'*'), (b'Strict-Transport-Security', b'max-age=15724800; includeSubDomains')])\n",
      "INFO:httpx:HTTP Request: POST https://servicex-release-testing-4.servicex.ssl-hep.org//token/refresh \"HTTP/1.1 200 OK\"\n",
      "DEBUG:httpcore.http11:receive_response_body.started request=<Request [b'POST']>\n",
      "DEBUG:httpcore.http11:receive_response_body.complete\n",
      "DEBUG:httpcore.http11:response_closed.started\n",
      "DEBUG:httpcore.http11:response_closed.complete\n",
      "DEBUG:httpcore.http11:send_request_headers.started request=<Request [b'GET']>\n",
      "DEBUG:httpcore.http11:send_request_headers.complete\n",
      "DEBUG:httpcore.http11:send_request_body.started request=<Request [b'GET']>\n",
      "DEBUG:httpcore.http11:send_request_body.complete\n",
      "DEBUG:httpcore.http11:receive_response_headers.started request=<Request [b'GET']>\n"
     ]
    },
    {
     "name": "stderr",
     "output_type": "stream",
     "text": [
      "DEBUG:httpcore.http11:receive_response_headers.complete return_value=(b'HTTP/1.1', 200, b'OK', [(b'Date', b'Wed, 12 Jul 2023 23:57:15 GMT'), (b'Content-Type', b'application/json'), (b'Content-Length', b'2602'), (b'Connection', b'keep-alive'), (b'Access-Control-Allow-Origin', b'*'), (b'Strict-Transport-Security', b'max-age=15724800; includeSubDomains')])\n",
      "INFO:httpx:HTTP Request: GET https://servicex-release-testing-4.servicex.ssl-hep.org//servicex/transformation/ba35edd9-96b0-48dd-af6d-2f4cb4c18502 \"HTTP/1.1 200 OK\"\n",
      "DEBUG:httpcore.http11:receive_response_body.started request=<Request [b'GET']>\n",
      "DEBUG:httpcore.http11:receive_response_body.complete\n",
      "DEBUG:httpcore.http11:response_closed.started\n",
      "DEBUG:httpcore.http11:response_closed.complete\n",
      "DEBUG:httpcore.connection:close.started\n",
      "DEBUG:httpcore.connection:close.complete\n"
     ]
    },
    {
     "name": "stderr",
     "output_type": "stream",
     "text": [
      "DEBUG:charset_normalizer:Encoding detection: utf_8 is most likely the one.\n"
     ]
    },
    {
     "name": "stderr",
     "output_type": "stream",
     "text": [
      "DEBUG:charset_normalizer:Encoding detection: utf_8 is most likely the one.\n"
     ]
    },
    {
     "name": "stderr",
     "output_type": "stream",
     "text": [
      "DEBUG:httpx:load_ssl_context verify=True cert=None trust_env=True http2=False\n",
      "DEBUG:httpx:load_verify_locations cafile='c:\\\\Users\\\\gordo\\\\Code\\\\iris-hep\\\\joiner\\\\.venv\\\\lib\\\\site-packages\\\\certifi\\\\cacert.pem'\n",
      "DEBUG:httpcore.connection:connect_tcp.started host='servicex-release-testing-4.servicex.ssl-hep.org' port=443 local_address=None timeout=5.0 socket_options=None\n",
      "DEBUG:httpcore.connection:connect_tcp.complete return_value=<httpcore._backends.anyio.AnyIOStream object at 0x00000264CE266FE0>\n",
      "DEBUG:httpcore.connection:start_tls.started ssl_context=<ssl.SSLContext object at 0x00000264CE155440> server_hostname='servicex-release-testing-4.servicex.ssl-hep.org' timeout=5.0\n"
     ]
    },
    {
     "name": "stderr",
     "output_type": "stream",
     "text": [
      "DEBUG:httpcore.connection:start_tls.complete return_value=<httpcore._backends.anyio.AnyIOStream object at 0x00000264CE21D2D0>\n",
      "DEBUG:httpcore.http11:send_request_headers.started request=<Request [b'POST']>\n",
      "DEBUG:httpcore.http11:send_request_headers.complete\n",
      "DEBUG:httpcore.http11:send_request_body.started request=<Request [b'POST']>\n",
      "DEBUG:httpcore.http11:send_request_body.complete\n",
      "DEBUG:httpcore.http11:receive_response_headers.started request=<Request [b'POST']>\n",
      "DEBUG:httpcore.http11:receive_response_headers.complete return_value=(b'HTTP/1.1', 200, b'OK', [(b'Date', b'Wed, 12 Jul 2023 23:57:26 GMT'), (b'Content-Type', b'application/json'), (b'Content-Length', b'332'), (b'Connection', b'keep-alive'), (b'Access-Control-Allow-Origin', b'*'), (b'Strict-Transport-Security', b'max-age=15724800; includeSubDomains')])\n",
      "INFO:httpx:HTTP Request: POST https://servicex-release-testing-4.servicex.ssl-hep.org//token/refresh \"HTTP/1.1 200 OK\"\n",
      "DEBUG:httpcore.http11:receive_response_body.started request=<Request [b'POST']>\n",
      "DEBUG:httpcore.http11:receive_response_body.complete\n",
      "DEBUG:httpcore.http11:response_closed.started\n",
      "DEBUG:httpcore.http11:response_closed.complete\n",
      "DEBUG:httpcore.http11:send_request_headers.started request=<Request [b'GET']>\n",
      "DEBUG:httpcore.http11:send_request_headers.complete\n",
      "DEBUG:httpcore.http11:send_request_body.started request=<Request [b'GET']>\n",
      "DEBUG:httpcore.http11:send_request_body.complete\n",
      "DEBUG:httpcore.http11:receive_response_headers.started request=<Request [b'GET']>\n"
     ]
    },
    {
     "name": "stderr",
     "output_type": "stream",
     "text": [
      "DEBUG:httpcore.http11:receive_response_headers.complete return_value=(b'HTTP/1.1', 200, b'OK', [(b'Date', b'Wed, 12 Jul 2023 23:57:26 GMT'), (b'Content-Type', b'application/json'), (b'Content-Length', b'2602'), (b'Connection', b'keep-alive'), (b'Access-Control-Allow-Origin', b'*'), (b'Strict-Transport-Security', b'max-age=15724800; includeSubDomains')])\n",
      "INFO:httpx:HTTP Request: GET https://servicex-release-testing-4.servicex.ssl-hep.org//servicex/transformation/ba35edd9-96b0-48dd-af6d-2f4cb4c18502 \"HTTP/1.1 200 OK\"\n",
      "DEBUG:httpcore.http11:receive_response_body.started request=<Request [b'GET']>\n",
      "DEBUG:httpcore.http11:receive_response_body.complete\n",
      "DEBUG:httpcore.http11:response_closed.started\n",
      "DEBUG:httpcore.http11:response_closed.complete\n",
      "DEBUG:httpcore.connection:close.started\n",
      "DEBUG:httpcore.connection:close.complete\n"
     ]
    },
    {
     "name": "stderr",
     "output_type": "stream",
     "text": [
      "DEBUG:charset_normalizer:Encoding detection: utf_8 is most likely the one.\n"
     ]
    },
    {
     "name": "stderr",
     "output_type": "stream",
     "text": [
      "DEBUG:charset_normalizer:Encoding detection: utf_8 is most likely the one.\n"
     ]
    },
    {
     "name": "stderr",
     "output_type": "stream",
     "text": [
      "DEBUG:httpx:load_ssl_context verify=True cert=None trust_env=True http2=False\n",
      "DEBUG:httpx:load_verify_locations cafile='c:\\\\Users\\\\gordo\\\\Code\\\\iris-hep\\\\joiner\\\\.venv\\\\lib\\\\site-packages\\\\certifi\\\\cacert.pem'\n",
      "DEBUG:httpcore.connection:connect_tcp.started host='servicex-release-testing-4.servicex.ssl-hep.org' port=443 local_address=None timeout=5.0 socket_options=None\n",
      "DEBUG:httpcore.connection:connect_tcp.complete return_value=<httpcore._backends.anyio.AnyIOStream object at 0x00000264CE28CF40>\n",
      "DEBUG:httpcore.connection:start_tls.started ssl_context=<ssl.SSLContext object at 0x00000264CE11F0C0> server_hostname='servicex-release-testing-4.servicex.ssl-hep.org' timeout=5.0\n"
     ]
    },
    {
     "name": "stderr",
     "output_type": "stream",
     "text": [
      "DEBUG:httpcore.connection:start_tls.complete return_value=<httpcore._backends.anyio.AnyIOStream object at 0x00000264CE21D540>\n",
      "DEBUG:httpcore.http11:send_request_headers.started request=<Request [b'POST']>\n",
      "DEBUG:httpcore.http11:send_request_headers.complete\n",
      "DEBUG:httpcore.http11:send_request_body.started request=<Request [b'POST']>\n",
      "DEBUG:httpcore.http11:send_request_body.complete\n",
      "DEBUG:httpcore.http11:receive_response_headers.started request=<Request [b'POST']>\n"
     ]
    },
    {
     "name": "stderr",
     "output_type": "stream",
     "text": [
      "DEBUG:httpcore.http11:receive_response_headers.complete return_value=(b'HTTP/1.1', 200, b'OK', [(b'Date', b'Wed, 12 Jul 2023 23:57:36 GMT'), (b'Content-Type', b'application/json'), (b'Content-Length', b'332'), (b'Connection', b'keep-alive'), (b'Access-Control-Allow-Origin', b'*'), (b'Strict-Transport-Security', b'max-age=15724800; includeSubDomains')])\n",
      "INFO:httpx:HTTP Request: POST https://servicex-release-testing-4.servicex.ssl-hep.org//token/refresh \"HTTP/1.1 200 OK\"\n",
      "DEBUG:httpcore.http11:receive_response_body.started request=<Request [b'POST']>\n",
      "DEBUG:httpcore.http11:receive_response_body.complete\n",
      "DEBUG:httpcore.http11:response_closed.started\n",
      "DEBUG:httpcore.http11:response_closed.complete\n",
      "DEBUG:httpcore.http11:send_request_headers.started request=<Request [b'GET']>\n",
      "DEBUG:httpcore.http11:send_request_headers.complete\n",
      "DEBUG:httpcore.http11:send_request_body.started request=<Request [b'GET']>\n",
      "DEBUG:httpcore.http11:send_request_body.complete\n",
      "DEBUG:httpcore.http11:receive_response_headers.started request=<Request [b'GET']>\n",
      "DEBUG:httpcore.http11:receive_response_headers.complete return_value=(b'HTTP/1.1', 200, b'OK', [(b'Date', b'Wed, 12 Jul 2023 23:57:36 GMT'), (b'Content-Type', b'application/json'), (b'Content-Length', b'2627'), (b'Connection', b'keep-alive'), (b'Access-Control-Allow-Origin', b'*'), (b'Strict-Transport-Security', b'max-age=15724800; includeSubDomains')])\n",
      "INFO:httpx:HTTP Request: GET https://servicex-release-testing-4.servicex.ssl-hep.org//servicex/transformation/ba35edd9-96b0-48dd-af6d-2f4cb4c18502 \"HTTP/1.1 200 OK\"\n",
      "DEBUG:httpcore.http11:receive_response_body.started request=<Request [b'GET']>\n",
      "DEBUG:httpcore.http11:receive_response_body.complete\n",
      "DEBUG:httpcore.http11:response_closed.started\n",
      "DEBUG:httpcore.http11:response_closed.complete\n",
      "DEBUG:httpcore.connection:close.started\n",
      "DEBUG:httpcore.connection:close.complete\n"
     ]
    },
    {
     "data": {
      "text/html": [
       "<pre style=\"white-space:pre;overflow-x:auto;line-height:normal;font-family:Menlo,'DejaVu Sans Mono',consolas,'Courier New',monospace\">Transforms completed successfully\n",
       "</pre>\n"
      ],
      "text/plain": [
       "Transforms completed successfully\n"
      ]
     },
     "metadata": {},
     "output_type": "display_data"
    },
    {
     "name": "stderr",
     "output_type": "stream",
     "text": [
      "DEBUG:charset_normalizer:Encoding detection: utf_8 is most likely the one.\n"
     ]
    },
    {
     "data": {
      "text/html": [
       "<pre style=\"white-space:pre;overflow-x:auto;line-height:normal;font-family:Menlo,'DejaVu Sans Mono',consolas,'Courier New',monospace\"></pre>\n"
      ],
      "text/plain": []
     },
     "metadata": {},
     "output_type": "display_data"
    },
    {
     "data": {
      "text/html": [
       "<pre style=\"white-space:pre;overflow-x:auto;line-height:normal;font-family:Menlo,'DejaVu Sans Mono',consolas,'Courier New',monospace\">\n",
       "</pre>\n"
      ],
      "text/plain": [
       "\n"
      ]
     },
     "metadata": {},
     "output_type": "display_data"
    },
    {
     "data": {
      "text/plain": [
       "TransformedResults(hash='311aecb8f5ce1a2046732df94f42b27909b8c112a53fbddb7e3fb9e7435eaecb', title='Zee', codegen='atlasr21', request_id='ba35edd9-96b0-48dd-af6d-2f4cb4c18502', submit_time=datetime.datetime(2023, 7, 12, 23, 56, 34, 145647, tzinfo=datetime.timezone.utc), data_dir='sx_cache/ba35edd9-96b0-48dd-af6d-2f4cb4c18502', file_list=['C:/Users/gordo/Code/iris-hep/joiner/sx_cache/ba35edd9-96b0-48dd-af6d-2f4cb4c18502/_1fef7c829002f17c7cf6b6040ae8b1bc8d53ef6c8.pool.root.parquet', 'C:/Users/gordo/Code/iris-hep/joiner/sx_cache/ba35edd9-96b0-48dd-af6d-2f4cb4c18502/_5ea15726988e2cabe77ef8ff3060e301abb4adad3.pool.root.parquet', 'C:/Users/gordo/Code/iris-hep/joiner/sx_cache/ba35edd9-96b0-48dd-af6d-2f4cb4c18502/_fea60efda9349ddcf67332e74684c32fb0e1279e1.pool.root.parquet', 'C:/Users/gordo/Code/iris-hep/joiner/sx_cache/ba35edd9-96b0-48dd-af6d-2f4cb4c18502/_300acfa59326ff8ec94539acc44013a581d700593.pool.root.parquet', 'C:/Users/gordo/Code/iris-hep/joiner/sx_cache/ba35edd9-96b0-48dd-af6d-2f4cb4c18502/_62d32c51d78d6612ce0755ea4d7db714e5bd61ac5.pool.root.parquet', 'C:/Users/gordo/Code/iris-hep/joiner/sx_cache/ba35edd9-96b0-48dd-af6d-2f4cb4c18502/_fcc7443317e3448b3bd3a546e6b566c8b27824103.pool.root.parquet', 'C:/Users/gordo/Code/iris-hep/joiner/sx_cache/ba35edd9-96b0-48dd-af6d-2f4cb4c18502/_1e0fba6cd742b83c91123950e022a606cad069569.pool.root.parquet', 'C:/Users/gordo/Code/iris-hep/joiner/sx_cache/ba35edd9-96b0-48dd-af6d-2f4cb4c18502/_6cda6028e54266c3eb0361052367061aa11cd3a13.pool.root.parquet', 'C:/Users/gordo/Code/iris-hep/joiner/sx_cache/ba35edd9-96b0-48dd-af6d-2f4cb4c18502/_6d4c8bdebf9e65e5f39fe8216e1759c7d4e1f0bc3.pool.root.parquet', 'C:/Users/gordo/Code/iris-hep/joiner/sx_cache/ba35edd9-96b0-48dd-af6d-2f4cb4c18502/_24e694e21bea0ddbb715ff15c4853a7d1037eeac7.pool.root.parquet'], signed_url_list=[], files=10, result_format=<ResultFormat.parquet: 'parquet'>)"
      ]
     },
     "execution_count": 6,
     "metadata": {},
     "output_type": "execute_result"
    },
    {
     "name": "stderr",
     "output_type": "stream",
     "text": [
      "DEBUG:Comm:handle_msg[c0cc28c97e40437e84dfb4793fa95973]({'header': {'date': datetime.datetime(2023, 7, 12, 23, 57, 36, 777000, tzinfo=tzutc()), 'msg_id': '6c2a98be-e333-4281-95f5-d0675f227a80', 'msg_type': 'comm_msg', 'session': '1eaa59f2-84d8-4a20-8b0f-9f93df52cb63', 'username': '1872b749-2a1f-4992-9fe9-cc7f56e4daa9', 'version': '5.2'}, 'msg_id': '6c2a98be-e333-4281-95f5-d0675f227a80', 'msg_type': 'comm_msg', 'parent_header': {}, 'metadata': {}, 'content': {'comm_id': 'c0cc28c97e40437e84dfb4793fa95973', 'data': {'method': 'update', 'state': {'outputs': [{'output_type': 'display_data', 'data': {'text/plain': 'Transform \\x1b[38;2;114;156;31m━━━━━━━━━━━━━━━━━━━━━━━━━━━━━━━━━━━━━━━━\\x1b[0m \\x1b[32m10/10\\x1b[0m \\x1b[33m01:01\\x1b[0m\\nDownload  \\x1b[38;2;114;156;31m━━━━━━━━━━━━━━━━━━━━━━━━━━━━━━━━━━━━━━━━\\x1b[0m \\x1b[32m10/10\\x1b[0m \\x1b[33m00:57\\x1b[0m\\n', 'text/html': '<pre style=\"white-space:pre;overflow-x:auto;line-height:normal;font-family:Menlo,\\'DejaVu Sans Mono\\',consolas,\\'Courier New\\',monospace\">Transform <span style=\"color: #729c1f; text-decoration-color: #729c1f\">━━━━━━━━━━━━━━━━━━━━━━━━━━━━━━━━━━━━━━━━</span> <span style=\"color: #008000; text-decoration-color: #008000\">10/10</span> <span style=\"color: #808000; text-decoration-color: #808000\">01:01</span>\\nDownload  <span style=\"color: #729c1f; text-decoration-color: #729c1f\">━━━━━━━━━━━━━━━━━━━━━━━━━━━━━━━━━━━━━━━━</span> <span style=\"color: #008000; text-decoration-color: #008000\">10/10</span> <span style=\"color: #808000; text-decoration-color: #808000\">00:57</span>\\n</pre>\\n'}, 'metadata': {}}]}, 'buffer_paths': []}}, 'buffers': []})\n"
     ]
    }
   ],
   "source": [
    "electrons = (\n",
    "    ds.Select(lambda e: e.Electrons('Electrons'))\n",
    "    .Select(\n",
    "        lambda e: e.Where(lambda e: (e.pt() / 1000 > 25.0) and (abs(e.eta()) < 2.5))\n",
    "    )\n",
    "    .Select(lambda e: e.Select(lambda e: e.pt() / 1000))\n",
    ").as_files() #.generate_selection_string()\n",
    "electrons"
   ]
  },
  {
   "cell_type": "code",
   "execution_count": null,
   "metadata": {},
   "outputs": [],
   "source": [
    "import awkward as ak\n",
    "pts = ak.from_parquet(electrons.signed_url_list)"
   ]
  },
  {
   "cell_type": "markdown",
   "metadata": {},
   "source": [
    "# Query 1 - Electrons\n",
    "\n",
    "Good healthy electrons that should be part of a Z mass peak:"
   ]
  },
  {
   "cell_type": "code",
   "execution_count": null,
   "metadata": {},
   "outputs": [],
   "source": []
  },
  {
   "cell_type": "markdown",
   "metadata": {},
   "source": []
  }
 ],
 "metadata": {
  "kernelspec": {
   "display_name": ".venv",
   "language": "python",
   "name": "python3"
  },
  "language_info": {
   "codemirror_mode": {
    "name": "ipython",
    "version": 3
   },
   "file_extension": ".py",
   "mimetype": "text/x-python",
   "name": "python",
   "nbconvert_exporter": "python",
   "pygments_lexer": "ipython3",
   "version": "3.10.8"
  },
  "orig_nbformat": 4
 },
 "nbformat": 4,
 "nbformat_minor": 2
}
