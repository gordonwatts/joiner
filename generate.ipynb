{
 "cells": [
  {
   "cell_type": "markdown",
   "metadata": {},
   "source": [
    "Using SX generate parquet files for testing with join infrastructure. Also, using new SX frontend.\n",
    "\n",
    "Constants:"
   ]
  },
  {
   "cell_type": "code",
   "execution_count": 1,
   "metadata": {},
   "outputs": [],
   "source": [
    "# A Z to ee sample - Release 21\n",
    "ds_name = r\"mc16_13TeV:mc16_13TeV.361106.PowhegPythia8EvtGen_AZNLOCTEQ6L1_Zee.deriv.DAOD_PHYS.e3601_e5984_s3126_r10201_r10210_p5313\""
   ]
  },
  {
   "cell_type": "markdown",
   "metadata": {},
   "source": [
    "What we'll need for imports"
   ]
  },
  {
   "cell_type": "code",
   "execution_count": 2,
   "metadata": {},
   "outputs": [],
   "source": [
    "from servicex import ServiceXClient\n",
    "from servicex import RucioDatasetIdentifier\n",
    "from servicex import ResultFormat\n",
    "from func_adl_servicex_xaodr22.event_collection import Event\n",
    "\n",
    "# import logging\n",
    "# logging.basicConfig(level=logging.DEBUG)"
   ]
  },
  {
   "cell_type": "code",
   "execution_count": 3,
   "metadata": {},
   "outputs": [],
   "source": [
    "sx = ServiceXClient(backend=\"test4\")\n",
    "did = RucioDatasetIdentifier(ds_name, num_files=10)\n",
    "ds_raw = sx.func_adl_dataset(\n",
    "    did, codegen=\"atlasr21\", title=\"Zee\", result_format=ResultFormat.parquet, item_type=Event\n",
    ")\n",
    "\n",
    "from func_adl_servicex_xaodr22 import calib_tools\n",
    "# ds = calib_tools.apply_calibration(ds_raw, \"PHYS\")\n",
    "ds = calib_tools.query_update(ds_raw, calib_tools.default_config(\"PHYSLITE\"))"
   ]
  },
  {
   "cell_type": "code",
   "execution_count": 4,
   "metadata": {},
   "outputs": [
    {
     "data": {
      "application/vnd.jupyter.widget-view+json": {
       "model_id": "d356dbd9577c4ae9b65c53b06438d4b1",
       "version_major": 2,
       "version_minor": 0
      },
      "text/plain": [
       "Output()"
      ]
     },
     "metadata": {},
     "output_type": "display_data"
    },
    {
     "data": {
      "text/html": [
       "<pre style=\"white-space:pre;overflow-x:auto;line-height:normal;font-family:Menlo,'DejaVu Sans Mono',consolas,'Courier New',monospace\"><span style=\"font-weight: bold\">ServiceX Transform </span><span style=\"color: #ffff00; text-decoration-color: #ffff00; font-weight: bold\">0d6bb768-5727-443b-9e0b-d558e11454c8</span>\n",
       "</pre>\n"
      ],
      "text/plain": [
       "\u001b[1mServiceX Transform \u001b[0m\u001b[1;93m0d6bb768-5727-443b-9e0b-d558e11454c8\u001b[0m\n"
      ]
     },
     "metadata": {},
     "output_type": "display_data"
    },
    {
     "data": {
      "text/html": [
       "<pre style=\"white-space:pre;overflow-x:auto;line-height:normal;font-family:Menlo,'DejaVu Sans Mono',consolas,'Courier New',monospace\">Transforms completed successfully\n",
       "</pre>\n"
      ],
      "text/plain": [
       "Transforms completed successfully\n"
      ]
     },
     "metadata": {},
     "output_type": "display_data"
    },
    {
     "data": {
      "text/html": [
       "<pre style=\"white-space:pre;overflow-x:auto;line-height:normal;font-family:Menlo,'DejaVu Sans Mono',consolas,'Courier New',monospace\"></pre>\n"
      ],
      "text/plain": []
     },
     "metadata": {},
     "output_type": "display_data"
    },
    {
     "data": {
      "text/html": [
       "<pre style=\"white-space:pre;overflow-x:auto;line-height:normal;font-family:Menlo,'DejaVu Sans Mono',consolas,'Courier New',monospace\">\n",
       "</pre>\n"
      ],
      "text/plain": [
       "\n"
      ]
     },
     "metadata": {},
     "output_type": "display_data"
    }
   ],
   "source": [
    "electrons = (\n",
    "    ds.Select(lambda e: e.Electrons('Electrons'))\n",
    "    .Select(\n",
    "        lambda e: e.Where(lambda e: (e.pt() / 1000 > 25.0) and (abs(e.eta()) < 2.5))\n",
    "    )\n",
    "    .Select(lambda e: e.Select(lambda e: e.pt() / 1000))\n",
    ").as_files() #.generate_selection_string()"
   ]
  },
  {
   "cell_type": "code",
   "execution_count": 5,
   "metadata": {},
   "outputs": [
    {
     "data": {
      "text/html": [
       "<pre>[{col1: []},\n",
       " {col1: []},\n",
       " {col1: [59.8, 54.6]},\n",
       " {col1: [35.3]},\n",
       " {col1: []},\n",
       " {col1: [45.1]},\n",
       " {col1: []},\n",
       " {col1: [51.3, 42.7]},\n",
       " {col1: [38.6, 36.7]},\n",
       " {col1: [29.2]},\n",
       " ...,\n",
       " {col1: []},\n",
       " {col1: [107]},\n",
       " {col1: []},\n",
       " {col1: [26.1]},\n",
       " {col1: [26]},\n",
       " {col1: [44.2, 32.2]},\n",
       " {col1: [28.2]},\n",
       " {col1: [43.8]},\n",
       " {col1: [50.1, 26.7]}]\n",
       "-----------------------\n",
       "type: 460000 * {\n",
       "    col1: var * float64\n",
       "}</pre>"
      ],
      "text/plain": [
       "<Array [{col1: []}, {...}, ..., {col1: [...]}] type='460000 * {col1: var * ...'>"
      ]
     },
     "execution_count": 5,
     "metadata": {},
     "output_type": "execute_result"
    }
   ],
   "source": [
    "import awkward as ak\n",
    "pts = ak.from_parquet(electrons.file_list)\n",
    "pts"
   ]
  },
  {
   "cell_type": "markdown",
   "metadata": {},
   "source": [
    "# Query 1 - Electrons\n",
    "\n",
    "Good healthy electrons that should be part of a Z mass peak:"
   ]
  },
  {
   "cell_type": "code",
   "execution_count": null,
   "metadata": {},
   "outputs": [],
   "source": []
  },
  {
   "cell_type": "markdown",
   "metadata": {},
   "source": []
  }
 ],
 "metadata": {
  "kernelspec": {
   "display_name": ".venv",
   "language": "python",
   "name": "python3"
  },
  "language_info": {
   "codemirror_mode": {
    "name": "ipython",
    "version": 3
   },
   "file_extension": ".py",
   "mimetype": "text/x-python",
   "name": "python",
   "nbconvert_exporter": "python",
   "pygments_lexer": "ipython3",
   "version": "3.10.5"
  },
  "orig_nbformat": 4
 },
 "nbformat": 4,
 "nbformat_minor": 2
}
