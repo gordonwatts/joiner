{
 "cells": [
  {
   "cell_type": "markdown",
   "metadata": {},
   "source": [
    "Using SX generate parquet files for testing with join infrastructure. Also, using new SX frontend.\n",
    "\n",
    "Constants:"
   ]
  },
  {
   "cell_type": "code",
   "execution_count": 1,
   "metadata": {},
   "outputs": [],
   "source": [
    "# A Z to ee sample - Release 21\n",
    "ds_name = r\"mc16_13TeV:mc16_13TeV.361106.PowhegPythia8EvtGen_AZNLOCTEQ6L1_Zee.deriv.DAOD_PHYS.e3601_e5984_s3126_r10201_r10210_p5313\""
   ]
  },
  {
   "cell_type": "markdown",
   "metadata": {},
   "source": [
    "What we'll need for imports"
   ]
  },
  {
   "cell_type": "code",
   "execution_count": 2,
   "metadata": {},
   "outputs": [],
   "source": [
    "from servicex_client.servicex_client import ServiceXClient\n",
    "from servicex_client.dataset_identifier import RucioDatasetIdentifier\n",
    "from servicex_client.models import ResultFormat\n",
    "from func_adl_servicex_xaodr22.event_collection import Event\n",
    "\n",
    "# import logging\n",
    "# logging.basicConfig(level=logging.DEBUG)"
   ]
  },
  {
   "cell_type": "code",
   "execution_count": 3,
   "metadata": {},
   "outputs": [],
   "source": [
    "sx = ServiceXClient(backend=\"test4\")\n",
    "did = RucioDatasetIdentifier(ds_name, num_files=10)\n",
    "ds_raw = sx.func_adl_dataset(\n",
    "    did, codegen=\"atlasr21\", title=\"Zee\", result_format=ResultFormat.parquet, item_type=Event\n",
    ")\n",
    "\n",
    "from func_adl_servicex_xaodr22 import calib_tools\n",
    "#ds = calib_tools.apply_calibration(ds_raw, \"PHYS\")\n",
    "ds = calib_tools.query_update(ds_raw, calib_tools.default_config(\"PHYSLITE\"))"
   ]
  },
  {
   "cell_type": "code",
   "execution_count": 4,
   "metadata": {},
   "outputs": [
    {
     "data": {
      "application/vnd.jupyter.widget-view+json": {
       "model_id": "8cdf2216faa64f7fa2eb85c0cac8ccba",
       "version_major": 2,
       "version_minor": 0
      },
      "text/plain": [
       "Output()"
      ]
     },
     "metadata": {},
     "output_type": "display_data"
    },
    {
     "data": {
      "text/html": [
       "<pre style=\"white-space:pre;overflow-x:auto;line-height:normal;font-family:Menlo,'DejaVu Sans Mono',consolas,'Courier New',monospace\"><span style=\"font-weight: bold\">ServiceX Transform </span><span style=\"color: #ffff00; text-decoration-color: #ffff00; font-weight: bold\">bb4f93bf-5946-4654-b839-23a72c122be8</span>\n",
       "</pre>\n"
      ],
      "text/plain": [
       "\u001b[1mServiceX Transform \u001b[0m\u001b[1;93mbb4f93bf-5946-4654-b839-23a72c122be8\u001b[0m\n"
      ]
     },
     "metadata": {},
     "output_type": "display_data"
    },
    {
     "data": {
      "text/html": [
       "<pre style=\"white-space:pre;overflow-x:auto;line-height:normal;font-family:Menlo,'DejaVu Sans Mono',consolas,'Courier New',monospace\">Transforms completed successfully\n",
       "</pre>\n"
      ],
      "text/plain": [
       "Transforms completed successfully\n"
      ]
     },
     "metadata": {},
     "output_type": "display_data"
    },
    {
     "data": {
      "text/html": [
       "<pre style=\"white-space:pre;overflow-x:auto;line-height:normal;font-family:Menlo,'DejaVu Sans Mono',consolas,'Courier New',monospace\"></pre>\n"
      ],
      "text/plain": []
     },
     "metadata": {},
     "output_type": "display_data"
    },
    {
     "data": {
      "text/html": [
       "<pre style=\"white-space:pre;overflow-x:auto;line-height:normal;font-family:Menlo,'DejaVu Sans Mono',consolas,'Courier New',monospace\">\n",
       "</pre>\n"
      ],
      "text/plain": [
       "\n"
      ]
     },
     "metadata": {},
     "output_type": "display_data"
    },
    {
     "data": {
      "text/plain": [
       "TransformedResults(hash='311aecb8f5ce1a2046732df94f42b27909b8c112a53fbddb7e3fb9e7435eaecb', title='Zee', codegen='atlasr21', request_id='bb4f93bf-5946-4654-b839-23a72c122be8', submit_time=datetime.datetime(2023, 7, 13, 7, 20, 37, 594651, tzinfo=datetime.timezone.utc), data_dir='sx_cache/bb4f93bf-5946-4654-b839-23a72c122be8', file_list=['C:/Users/gordo/Code/iris-hep/joiner/sx_cache/bb4f93bf-5946-4654-b839-23a72c122be8/_fea60efda9349ddcf67332e74684c32fb0e1279e1.pool.root.parquet', 'C:/Users/gordo/Code/iris-hep/joiner/sx_cache/bb4f93bf-5946-4654-b839-23a72c122be8/_5ea15726988e2cabe77ef8ff3060e301abb4adad3.pool.root.parquet', 'C:/Users/gordo/Code/iris-hep/joiner/sx_cache/bb4f93bf-5946-4654-b839-23a72c122be8/_300acfa59326ff8ec94539acc44013a581d700593.pool.root.parquet', 'C:/Users/gordo/Code/iris-hep/joiner/sx_cache/bb4f93bf-5946-4654-b839-23a72c122be8/_62d32c51d78d6612ce0755ea4d7db714e5bd61ac5.pool.root.parquet', 'C:/Users/gordo/Code/iris-hep/joiner/sx_cache/bb4f93bf-5946-4654-b839-23a72c122be8/_fcc7443317e3448b3bd3a546e6b566c8b27824103.pool.root.parquet', 'C:/Users/gordo/Code/iris-hep/joiner/sx_cache/bb4f93bf-5946-4654-b839-23a72c122be8/_1fef7c829002f17c7cf6b6040ae8b1bc8d53ef6c8.pool.root.parquet', 'C:/Users/gordo/Code/iris-hep/joiner/sx_cache/bb4f93bf-5946-4654-b839-23a72c122be8/_1e0fba6cd742b83c91123950e022a606cad069569.pool.root.parquet', 'C:/Users/gordo/Code/iris-hep/joiner/sx_cache/bb4f93bf-5946-4654-b839-23a72c122be8/_6cda6028e54266c3eb0361052367061aa11cd3a13.pool.root.parquet', 'C:/Users/gordo/Code/iris-hep/joiner/sx_cache/bb4f93bf-5946-4654-b839-23a72c122be8/_6d4c8bdebf9e65e5f39fe8216e1759c7d4e1f0bc3.pool.root.parquet', 'C:/Users/gordo/Code/iris-hep/joiner/sx_cache/bb4f93bf-5946-4654-b839-23a72c122be8/_24e694e21bea0ddbb715ff15c4853a7d1037eeac7.pool.root.parquet'], signed_url_list=[], files=10, result_format=<ResultFormat.parquet: 'parquet'>)"
      ]
     },
     "execution_count": 4,
     "metadata": {},
     "output_type": "execute_result"
    }
   ],
   "source": [
    "electrons = (\n",
    "    ds.Select(lambda e: e.Electrons('Electrons'))\n",
    "    .Select(\n",
    "        lambda e: e.Where(lambda e: (e.pt() / 1000 > 25.0) and (abs(e.eta()) < 2.5))\n",
    "    )\n",
    "    .Select(lambda e: e.Select(lambda e: e.pt() / 1000))\n",
    ").as_files() #.generate_selection_string()"
   ]
  },
  {
   "cell_type": "code",
   "execution_count": 8,
   "metadata": {},
   "outputs": [
    {
     "data": {
      "text/plain": [
       "<Array [{col1: []}, ... {col1: [49.5]}] type='460000 * {\"col1\": var * float64}'>"
      ]
     },
     "execution_count": 8,
     "metadata": {},
     "output_type": "execute_result"
    }
   ],
   "source": [
    "import awkward as ak\n",
    "pts = ak.from_parquet(electrons.file_list)\n",
    "pts"
   ]
  },
  {
   "cell_type": "markdown",
   "metadata": {},
   "source": [
    "# Query 1 - Electrons\n",
    "\n",
    "Good healthy electrons that should be part of a Z mass peak:"
   ]
  },
  {
   "cell_type": "code",
   "execution_count": null,
   "metadata": {},
   "outputs": [],
   "source": []
  },
  {
   "cell_type": "markdown",
   "metadata": {},
   "source": []
  }
 ],
 "metadata": {
  "kernelspec": {
   "display_name": ".venv",
   "language": "python",
   "name": "python3"
  },
  "language_info": {
   "codemirror_mode": {
    "name": "ipython",
    "version": 3
   },
   "file_extension": ".py",
   "mimetype": "text/x-python",
   "name": "python",
   "nbconvert_exporter": "python",
   "pygments_lexer": "ipython3",
   "version": "3.10.8"
  },
  "orig_nbformat": 4
 },
 "nbformat": 4,
 "nbformat_minor": 2
}
