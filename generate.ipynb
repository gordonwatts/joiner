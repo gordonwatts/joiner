{
 "cells": [
  {
   "cell_type": "markdown",
   "metadata": {},
   "source": [
    "Using SX generate parquet files for testing with join infrastructure. Also, using new SX frontend.\n",
    "\n",
    "Constants:"
   ]
  },
  {
   "cell_type": "code",
   "execution_count": null,
   "metadata": {},
   "outputs": [],
   "source": [
    "# A Z to ee sample - Release 21\n",
    "ds_name = r\"mc16_13TeV:mc16_13TeV.361106.PowhegPythia8EvtGen_AZNLOCTEQ6L1_Zee.deriv.DAOD_PHYS.e3601_e5984_s3126_r10201_r10210_p5313\""
   ]
  },
  {
   "cell_type": "markdown",
   "metadata": {},
   "source": [
    "What we'll need for imports"
   ]
  },
  {
   "cell_type": "code",
   "execution_count": null,
   "metadata": {},
   "outputs": [],
   "source": [
    "from servicex_client.servicex_client import ServiceXClient\n",
    "from servicex_client.dataset_identifier import RucioDatasetIdentifier\n",
    "from servicex_client.models import ResultFormat"
   ]
  },
  {
   "cell_type": "code",
   "execution_count": null,
   "metadata": {},
   "outputs": [],
   "source": [
    "from turtle import back\n",
    "\n",
    "sx = ServiceXClient(backend=\"test4\")\n",
    "did = RucioDatasetIdentifier(ds_name, num_files=10)\n",
    "ds = sx.func_adl_dataset(\n",
    "    did, codegen=\"atlasr21\", title=\"Zee\", result_format=ResultFormat.parquet\n",
    ")"
   ]
  },
  {
   "cell_type": "code",
   "execution_count": null,
   "metadata": {},
   "outputs": [],
   "source": [
    "electrons_async = (\n",
    "    ds.Select(lambda e: e.Electrons('Electrons'))\n",
    "    .Select(\n",
    "        lambda e: e.Where(lambda e: (e.pt() / 1000 > 25.0) and (abs(e.eta()) < 2.5))\n",
    "    )\n",
    "    .Select(lambda e: e.Select(lambda e: e.pt() / 1000))\n",
    ").as_signed_urls()"
   ]
  },
  {
   "cell_type": "code",
   "execution_count": null,
   "metadata": {},
   "outputs": [],
   "source": [
    "electrons = await electrons_async"
   ]
  },
  {
   "cell_type": "code",
   "execution_count": null,
   "metadata": {},
   "outputs": [],
   "source": [
    "import awkward as ak\n",
    "pts = ak.from_parquet(electrons.signed_url_list)"
   ]
  },
  {
   "cell_type": "markdown",
   "metadata": {},
   "source": [
    "# Query 1 - Electrons\n",
    "\n",
    "Good healthy electrons that should be part of a Z mass peak:"
   ]
  },
  {
   "cell_type": "code",
   "execution_count": null,
   "metadata": {},
   "outputs": [],
   "source": []
  },
  {
   "cell_type": "markdown",
   "metadata": {},
   "source": []
  }
 ],
 "metadata": {
  "kernelspec": {
   "display_name": ".venv",
   "language": "python",
   "name": "python3"
  },
  "language_info": {
   "codemirror_mode": {
    "name": "ipython",
    "version": 3
   },
   "file_extension": ".py",
   "mimetype": "text/x-python",
   "name": "python",
   "nbconvert_exporter": "python",
   "pygments_lexer": "ipython3",
   "version": "3.10.5"
  },
  "orig_nbformat": 4
 },
 "nbformat": 4,
 "nbformat_minor": 2
}
