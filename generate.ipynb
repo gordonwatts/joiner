{
 "cells": [
  {
   "cell_type": "markdown",
   "metadata": {},
   "source": [
    "# Generating Files for Joins\n",
    "\n",
    "Using SX generate parquet files for testing with join infrastructure. Also, using new SX frontend.\n",
    "\n",
    "Constants:"
   ]
  },
  {
   "cell_type": "code",
   "execution_count": 1,
   "metadata": {},
   "outputs": [],
   "source": [
    "# A Z to ee sample - Release 21\n",
    "ds_name = r\"mc16_13TeV:mc16_13TeV.361106.PowhegPythia8EvtGen_AZNLOCTEQ6L1_Zee.deriv.DAOD_PHYS.e3601_e5984_s3126_r10201_r10210_p5313\""
   ]
  },
  {
   "cell_type": "markdown",
   "metadata": {},
   "source": [
    "What we'll need for imports"
   ]
  },
  {
   "cell_type": "code",
   "execution_count": 2,
   "metadata": {},
   "outputs": [],
   "source": [
    "from servicex import ServiceXClient, RucioDatasetIdentifier, ResultFormat, DatasetGroup\n",
    "from func_adl_servicex_xaodr22.event_collection import Event\n",
    "\n",
    "# import logging\n",
    "# logging.basicConfig(level=logging.DEBUG)"
   ]
  },
  {
   "cell_type": "markdown",
   "metadata": {},
   "source": [
    "The base dataset creation:"
   ]
  },
  {
   "cell_type": "code",
   "execution_count": 3,
   "metadata": {},
   "outputs": [],
   "source": [
    "sx = ServiceXClient(backend=\"test4\")\n",
    "did = RucioDatasetIdentifier(ds_name, num_files=10)\n",
    "ds_raw = sx.func_adl_dataset(\n",
    "    did, codegen=\"atlasr21\", title=\"Zee\", result_format=ResultFormat.parquet, item_type=Event\n",
    ")\n",
    "\n",
    "from func_adl_servicex_xaodr22 import calib_tools\n",
    "# ds = calib_tools.apply_calibration(ds_raw, \"PHYS\") <this is what we should have>\n",
    "ds = calib_tools.query_update(ds_raw, calib_tools.default_config(\"PHYSLITE\"))"
   ]
  },
  {
   "cell_type": "markdown",
   "metadata": {},
   "source": [
    "# Central Electron $p_T$\n",
    "\n",
    "We'll grab all the central electron $p_T$ that are more than 25 GeV."
   ]
  },
  {
   "cell_type": "code",
   "execution_count": 4,
   "metadata": {},
   "outputs": [],
   "source": [
    "good_ele = ds.Select(\n",
    "    lambda e: {\n",
    "        \"run\": e.EventInfo(\"EventInfo\").runNumber(),\n",
    "        \"event\": e.EventInfo(\"EventInfo\").eventNumber(),\n",
    "        \"good_ele\": e.Electrons(\"Electrons\").Where(lambda e: (e.pt() / 1000 > 25.0) and (abs(e.eta()) < 2.5)\n",
    "        ),\n",
    "    }\n",
    ")"
   ]
  },
  {
   "cell_type": "markdown",
   "metadata": {},
   "source": [
    "First, just the $p_T$, and then the $\\eta$:"
   ]
  },
  {
   "cell_type": "code",
   "execution_count": 5,
   "metadata": {},
   "outputs": [],
   "source": [
    "electron_pt = good_ele.Select(lambda e: {\n",
    "    \"run\": e.run,\n",
    "    \"event\": e.event,\n",
    "    \"pt\": e.good_ele.Select(lambda ele: ele.pt()/1000.0),\n",
    "})"
   ]
  },
  {
   "cell_type": "code",
   "execution_count": 6,
   "metadata": {},
   "outputs": [
    {
     "data": {
      "application/vnd.jupyter.widget-view+json": {
       "model_id": "2941bf3e737a4d9889164a681099ae67",
       "version_major": 2,
       "version_minor": 0
      },
      "text/plain": [
       "Output()"
      ]
     },
     "metadata": {},
     "output_type": "display_data"
    },
    {
     "data": {
      "text/html": [
       "<pre style=\"white-space:pre;overflow-x:auto;line-height:normal;font-family:Menlo,'DejaVu Sans Mono',consolas,'Courier New',monospace\">Returning results from cache\n",
       "</pre>\n"
      ],
      "text/plain": [
       "Returning results from cache\n"
      ]
     },
     "metadata": {},
     "output_type": "display_data"
    },
    {
     "data": {
      "text/html": [
       "<pre style=\"white-space:pre;overflow-x:auto;line-height:normal;font-family:Menlo,'DejaVu Sans Mono',consolas,'Courier New',monospace\"></pre>\n"
      ],
      "text/plain": []
     },
     "metadata": {},
     "output_type": "display_data"
    },
    {
     "data": {
      "text/html": [
       "<pre style=\"white-space:pre;overflow-x:auto;line-height:normal;font-family:Menlo,'DejaVu Sans Mono',consolas,'Courier New',monospace\">\n",
       "</pre>\n"
      ],
      "text/plain": [
       "\n"
      ]
     },
     "metadata": {},
     "output_type": "display_data"
    },
    {
     "name": "stdout",
     "output_type": "stream",
     "text": [
      "number of URLs: 10\n"
     ]
    }
   ],
   "source": [
    "r = electron_pt.as_signed_urls()\n",
    "print(f\"number of URLs: {len(r.signed_url_list)}\")"
   ]
  },
  {
   "cell_type": "code",
   "execution_count": 7,
   "metadata": {},
   "outputs": [
    {
     "data": {
      "application/vnd.jupyter.widget-view+json": {
       "model_id": "030bfb57ac1542a688ca89fd00d35b57",
       "version_major": 2,
       "version_minor": 0
      },
      "text/plain": [
       "Output()"
      ]
     },
     "metadata": {},
     "output_type": "display_data"
    },
    {
     "data": {
      "text/html": [
       "<pre style=\"white-space:pre;overflow-x:auto;line-height:normal;font-family:Menlo,'DejaVu Sans Mono',consolas,'Courier New',monospace\">Returning results from cache\n",
       "</pre>\n"
      ],
      "text/plain": [
       "Returning results from cache\n"
      ]
     },
     "metadata": {},
     "output_type": "display_data"
    },
    {
     "data": {
      "text/html": [
       "<pre style=\"white-space:pre;overflow-x:auto;line-height:normal;font-family:Menlo,'DejaVu Sans Mono',consolas,'Courier New',monospace\"></pre>\n"
      ],
      "text/plain": []
     },
     "metadata": {},
     "output_type": "display_data"
    },
    {
     "data": {
      "text/html": [
       "<pre style=\"white-space:pre;overflow-x:auto;line-height:normal;font-family:Menlo,'DejaVu Sans Mono',consolas,'Courier New',monospace\">\n",
       "</pre>\n"
      ],
      "text/plain": [
       "\n"
      ]
     },
     "metadata": {},
     "output_type": "display_data"
    },
    {
     "name": "stdout",
     "output_type": "stream",
     "text": [
      "10\n"
     ]
    }
   ],
   "source": [
    "r = electron_pt.as_files()\n",
    "print(len(r.file_list))"
   ]
  },
  {
   "cell_type": "code",
   "execution_count": 8,
   "metadata": {},
   "outputs": [],
   "source": [
    "electron_etaphi = good_ele.Select(lambda e: {\n",
    "    \"run\": e.run,\n",
    "    \"event\": e.event,\n",
    "    \"eta\": e.good_ele.Select(lambda ele: ele.eta()),\n",
    "    \"phi\": e.good_ele.Select(lambda ele: ele.phi()),\n",
    "})"
   ]
  },
  {
   "cell_type": "markdown",
   "metadata": {},
   "source": [
    "And the number of calorimeter clusters, along with $p_T$ for matching"
   ]
  },
  {
   "cell_type": "code",
   "execution_count": 9,
   "metadata": {},
   "outputs": [],
   "source": [
    "electron_calo = good_ele.Select(lambda e: {\n",
    "    \"run\": e.run,\n",
    "    \"event\": e.event,\n",
    "    \"pt\": e.good_ele.Select(lambda ele: ele.pt()/1000.0),\n",
    "    \"n_calo\": e.good_ele.Select(lambda ele: ele.nCaloClusters()),\n",
    "})"
   ]
  },
  {
   "cell_type": "markdown",
   "metadata": {},
   "source": [
    "## Another slice of electrons\n",
    "\n",
    "Grab $\\eta$, $\\phi$, and $p_T$ for electrons between 20 and 25 GeV, but central."
   ]
  },
  {
   "cell_type": "code",
   "execution_count": 10,
   "metadata": {},
   "outputs": [],
   "source": [
    "medium_ele = ds.Select(\n",
    "    lambda e: {\n",
    "        \"run\": e.EventInfo(\"EventInfo\").runNumber(),\n",
    "        \"event\": e.EventInfo(\"EventInfo\").eventNumber(),\n",
    "        \"good_ele\": e.Electrons(\"Electrons\").Where(lambda e: (e.pt() / 1000 > 20.0) and (e.pt() / 1000 <= 25.0) and (abs(e.eta()) < 2.5)\n",
    "        ),\n",
    "    }\n",
    ")"
   ]
  },
  {
   "cell_type": "code",
   "execution_count": 11,
   "metadata": {},
   "outputs": [],
   "source": [
    "medium_ele_ptetaphi = medium_ele.Select(lambda e: {\n",
    "    \"run\": e.run,\n",
    "    \"event\": e.event,\n",
    "    \"pt\": e.good_ele.Select(lambda ele: ele.pt()/1000.0),\n",
    "    \"eta\": e.good_ele.Select(lambda ele: ele.eta()),\n",
    "    \"phi\": e.good_ele.Select(lambda ele: ele.phi()),\n",
    "    })"
   ]
  },
  {
   "cell_type": "markdown",
   "metadata": {},
   "source": [
    "## The Missing $E_T$\n",
    "\n",
    "This is an event level variable, so there is only one of these.\n",
    "\n",
    "There is currently a bug, so this isn't working yet! This bug is now fixed in the main branch, but has not been released yet."
   ]
  },
  {
   "cell_type": "code",
   "execution_count": 12,
   "metadata": {},
   "outputs": [],
   "source": [
    "# missing_et = ds.Select(lambda e: {\n",
    "#     \"run\": e.EventInfo(\"EventInfo\").runNumber(),\n",
    "#     \"event\": e.EventInfo(\"EventInfo\").eventNumber(),\n",
    "#     \"missing_et\": e.MissingET().met()/1000.0,\n",
    "# })"
   ]
  },
  {
   "cell_type": "markdown",
   "metadata": {},
   "source": [
    "## Number of interactions per crossing\n",
    "\n",
    "This is another thing where there is a single item per event, so it can take the place of missing $E_T$ until that is fixed."
   ]
  },
  {
   "cell_type": "code",
   "execution_count": 13,
   "metadata": {},
   "outputs": [],
   "source": [
    "crossings = ds.Select(lambda e: {\n",
    "    \"run\": e.EventInfo(\"EventInfo\").runNumber(),\n",
    "    \"event\": e.EventInfo(\"EventInfo\").eventNumber(),\n",
    "    \"interactions\": e.EventInfo(\"EventInfo\").actualInteractionsPerCrossing(),\n",
    "})"
   ]
  },
  {
   "cell_type": "markdown",
   "metadata": {},
   "source": [
    "## Fetch it all\n",
    "\n",
    "Now that we have build all the queries, lets fetch them!"
   ]
  },
  {
   "cell_type": "code",
   "execution_count": 14,
   "metadata": {},
   "outputs": [],
   "source": [
    "everything = {\n",
    "    \"electron_pt\": electron_pt,\n",
    "    \"electron_etaphi\": electron_etaphi,\n",
    "    \"medium_ele_ptetaphi\": medium_ele_ptetaphi,\n",
    "    # \"missing_et\": missing_et,\n",
    "    \"interactions\": crossings,\n",
    "    \"n_calo\": electron_calo,\n",
    "}"
   ]
  },
  {
   "cell_type": "markdown",
   "metadata": {},
   "source": [
    "Use the dataset group to get them all to show up, and then rebuild the results into a dictionary so we can easily print out the information we need."
   ]
  },
  {
   "cell_type": "code",
   "execution_count": 15,
   "metadata": {},
   "outputs": [
    {
     "data": {
      "application/vnd.jupyter.widget-view+json": {
       "model_id": "3074d859b7b3493ebf38e96fb1924f87",
       "version_major": 2,
       "version_minor": 0
      },
      "text/plain": [
       "Output()"
      ]
     },
     "metadata": {},
     "output_type": "display_data"
    },
    {
     "data": {
      "text/html": [
       "<pre style=\"white-space:pre;overflow-x:auto;line-height:normal;font-family:Menlo,'DejaVu Sans Mono',consolas,'Courier New',monospace\">Returning results from cache\n",
       "</pre>\n"
      ],
      "text/plain": [
       "Returning results from cache\n"
      ]
     },
     "metadata": {},
     "output_type": "display_data"
    },
    {
     "data": {
      "text/html": [
       "<pre style=\"white-space:pre;overflow-x:auto;line-height:normal;font-family:Menlo,'DejaVu Sans Mono',consolas,'Courier New',monospace\">Returning results from cache\n",
       "</pre>\n"
      ],
      "text/plain": [
       "Returning results from cache\n"
      ]
     },
     "metadata": {},
     "output_type": "display_data"
    },
    {
     "data": {
      "text/html": [
       "<pre style=\"white-space:pre;overflow-x:auto;line-height:normal;font-family:Menlo,'DejaVu Sans Mono',consolas,'Courier New',monospace\">Returning results from cache\n",
       "</pre>\n"
      ],
      "text/plain": [
       "Returning results from cache\n"
      ]
     },
     "metadata": {},
     "output_type": "display_data"
    },
    {
     "data": {
      "text/html": [
       "<pre style=\"white-space:pre;overflow-x:auto;line-height:normal;font-family:Menlo,'DejaVu Sans Mono',consolas,'Courier New',monospace\">Returning results from cache\n",
       "</pre>\n"
      ],
      "text/plain": [
       "Returning results from cache\n"
      ]
     },
     "metadata": {},
     "output_type": "display_data"
    },
    {
     "data": {
      "text/html": [
       "<pre style=\"white-space:pre;overflow-x:auto;line-height:normal;font-family:Menlo,'DejaVu Sans Mono',consolas,'Courier New',monospace\">Returning results from cache\n",
       "</pre>\n"
      ],
      "text/plain": [
       "Returning results from cache\n"
      ]
     },
     "metadata": {},
     "output_type": "display_data"
    },
    {
     "data": {
      "text/html": [
       "<pre style=\"white-space:pre;overflow-x:auto;line-height:normal;font-family:Menlo,'DejaVu Sans Mono',consolas,'Courier New',monospace\"></pre>\n"
      ],
      "text/plain": []
     },
     "metadata": {},
     "output_type": "display_data"
    },
    {
     "data": {
      "text/html": [
       "<pre style=\"white-space:pre;overflow-x:auto;line-height:normal;font-family:Menlo,'DejaVu Sans Mono',consolas,'Courier New',monospace\">\n",
       "</pre>\n"
      ],
      "text/plain": [
       "\n"
      ]
     },
     "metadata": {},
     "output_type": "display_data"
    },
    {
     "name": "stdout",
     "output_type": "stream",
     "text": [
      "5\n"
     ]
    }
   ],
   "source": [
    "d = DatasetGroup([v for v in everything.values()])\n",
    "\n",
    "r_list = d.as_signed_urls()\n",
    "everything_results = {\n",
    "    k: v\n",
    "    for k, v in zip(everything.keys(), r_list)\n",
    "}\n",
    "print(len(everything_results))"
   ]
  },
  {
   "cell_type": "code",
   "execution_count": 16,
   "metadata": {},
   "outputs": [
    {
     "data": {
      "text/html": [
       "<pre style=\"white-space:pre;overflow-x:auto;line-height:normal;font-family:Menlo,'DejaVu Sans Mono',consolas,'Courier New',monospace\"><span style=\"font-style: italic\">                                  Zee                                   </span>\n",
       "┏━━━━━━━━━━━━━━━━━━━━━┳━━━━━━━━━━━━━━━━━━━━━━━━━━━━━━━━━━━━━━┳━━━━━━━━━┓\n",
       "┃<span style=\"font-weight: bold\"> Name                </span>┃<span style=\"font-weight: bold\"> Request ID                           </span>┃<span style=\"font-weight: bold\"> # Files </span>┃\n",
       "┡━━━━━━━━━━━━━━━━━━━━━╇━━━━━━━━━━━━━━━━━━━━━━━━━━━━━━━━━━━━━━╇━━━━━━━━━┩\n",
       "│ electron_pt         │ 59aadc72-7348-4412-bfc5-0ab851009120 │ 10      │\n",
       "│ electron_etaphi     │ 5b1e7a97-ec41-4b25-813e-41a8497dd1e5 │ 10      │\n",
       "│ medium_ele_ptetaphi │ 6d939651-c4ec-4190-a038-07c68f0104ec │ 10      │\n",
       "│ interactions        │ 532a252b-8379-466b-92eb-e89bf5164bd2 │ 10      │\n",
       "│ n_calo              │ 99548f4f-64dc-464e-9d24-6b25508773c0 │ 10      │\n",
       "└─────────────────────┴──────────────────────────────────────┴─────────┘\n",
       "</pre>\n"
      ],
      "text/plain": [
       "\u001b[3m                                  Zee                                   \u001b[0m\n",
       "┏━━━━━━━━━━━━━━━━━━━━━┳━━━━━━━━━━━━━━━━━━━━━━━━━━━━━━━━━━━━━━┳━━━━━━━━━┓\n",
       "┃\u001b[1m \u001b[0m\u001b[1mName               \u001b[0m\u001b[1m \u001b[0m┃\u001b[1m \u001b[0m\u001b[1mRequest ID                          \u001b[0m\u001b[1m \u001b[0m┃\u001b[1m \u001b[0m\u001b[1m# Files\u001b[0m\u001b[1m \u001b[0m┃\n",
       "┡━━━━━━━━━━━━━━━━━━━━━╇━━━━━━━━━━━━━━━━━━━━━━━━━━━━━━━━━━━━━━╇━━━━━━━━━┩\n",
       "│ electron_pt         │ 59aadc72-7348-4412-bfc5-0ab851009120 │ 10      │\n",
       "│ electron_etaphi     │ 5b1e7a97-ec41-4b25-813e-41a8497dd1e5 │ 10      │\n",
       "│ medium_ele_ptetaphi │ 6d939651-c4ec-4190-a038-07c68f0104ec │ 10      │\n",
       "│ interactions        │ 532a252b-8379-466b-92eb-e89bf5164bd2 │ 10      │\n",
       "│ n_calo              │ 99548f4f-64dc-464e-9d24-6b25508773c0 │ 10      │\n",
       "└─────────────────────┴──────────────────────────────────────┴─────────┘\n"
      ]
     },
     "metadata": {},
     "output_type": "display_data"
    }
   ],
   "source": [
    "from rich.table import Table\n",
    "\n",
    "t = Table(title=\"Zee\")\n",
    "t.add_column(\"Name\")\n",
    "t.add_column(\"Request ID\")\n",
    "t.add_column(\"# Files\")\n",
    "\n",
    "for k,v in everything_results.items():\n",
    "    t.add_row(k, v.request_id, str(len(v.signed_url_list)))\n",
    "\n",
    "from rich.console import Console\n",
    "console = Console()\n",
    "console.print(t)"
   ]
  }
 ],
 "metadata": {
  "kernelspec": {
   "display_name": ".venv",
   "language": "python",
   "name": "python3"
  },
  "language_info": {
   "codemirror_mode": {
    "name": "ipython",
    "version": 3
   },
   "file_extension": ".py",
   "mimetype": "text/x-python",
   "name": "python",
   "nbconvert_exporter": "python",
   "pygments_lexer": "ipython3",
   "version": "3.11.4"
  },
  "orig_nbformat": 4
 },
 "nbformat": 4,
 "nbformat_minor": 2
}
